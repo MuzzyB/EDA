{
 "cells": [
  {
   "cell_type": "code",
   "execution_count": null,
   "id": "37880f2c",
   "metadata": {},
   "outputs": [],
   "source": [
    "# Pandas-Profiling"
   ]
  },
  {
   "cell_type": "code",
   "execution_count": null,
   "id": "0c1969b2",
   "metadata": {},
   "outputs": [],
   "source": [
    "#pip install pandas_profiling"
   ]
  },
  {
   "cell_type": "code",
   "execution_count": null,
   "id": "152bc7b2",
   "metadata": {},
   "outputs": [],
   "source": [
    "#pip install sweetviz"
   ]
  },
  {
   "cell_type": "code",
   "execution_count": null,
   "id": "8abb7cb7",
   "metadata": {},
   "outputs": [],
   "source": [
    "#pip install dtale"
   ]
  },
  {
   "cell_type": "code",
   "execution_count": null,
   "id": "f9c33e1b",
   "metadata": {},
   "outputs": [],
   "source": [
    "#pip install autoviz"
   ]
  },
  {
   "cell_type": "code",
   "execution_count": null,
   "id": "c8a121bd",
   "metadata": {},
   "outputs": [],
   "source": [
    "# Load EDA Pkgs\n",
    "import pandas as pd \n",
    "df = pd.read_csv(\"market-share-data-raw1.csv\")"
   ]
  },
  {
   "cell_type": "code",
   "execution_count": null,
   "id": "3b496de1",
   "metadata": {},
   "outputs": [],
   "source": [
    "from pandas_profiling import ProfileReport\n",
    "profile = ProfileReport(df,title='Your MDT Market Share EDA Report')"
   ]
  },
  {
   "cell_type": "code",
   "execution_count": null,
   "id": "40fdcae9",
   "metadata": {},
   "outputs": [],
   "source": [
    "# Method to View In Jupyter\n",
    "profile.to_notebook_iframe()"
   ]
  },
  {
   "cell_type": "code",
   "execution_count": null,
   "id": "038d77c1",
   "metadata": {},
   "outputs": [],
   "source": [
    "# Method to Save as HTML\n",
    "profile.to_file(\"MDT Market Share EDA Report.html\")"
   ]
  },
  {
   "cell_type": "code",
   "execution_count": null,
   "id": "e8b66a7a",
   "metadata": {},
   "outputs": [],
   "source": [
    "# Sweetviz"
   ]
  },
  {
   "cell_type": "code",
   "execution_count": null,
   "id": "1767b24d",
   "metadata": {},
   "outputs": [],
   "source": [
    "# Load Pkgs\n",
    "import sweetviz as sv\n",
    "\n",
    "# Analyse Dataset\n",
    "report = sv.analyze(df)\n",
    "\n",
    "# View and Save\n",
    "report.show_html()"
   ]
  },
  {
   "cell_type": "code",
   "execution_count": null,
   "id": "18543155",
   "metadata": {},
   "outputs": [],
   "source": [
    "# Dtale"
   ]
  },
  {
   "cell_type": "code",
   "execution_count": null,
   "id": "a3daa85f",
   "metadata": {},
   "outputs": [],
   "source": [
    "#Load the Pkgs\n",
    "import dtale\n",
    "d = dtale.show(df)\n",
    "#View Report\n",
    "d"
   ]
  },
  {
   "cell_type": "code",
   "execution_count": null,
   "id": "ba5a5f06",
   "metadata": {},
   "outputs": [],
   "source": [
    "d.open_browser()"
   ]
  },
  {
   "cell_type": "code",
   "execution_count": null,
   "id": "21e6126f",
   "metadata": {},
   "outputs": [],
   "source": [
    "#Autoviz"
   ]
  },
  {
   "cell_type": "code",
   "execution_count": null,
   "id": "93e39b82",
   "metadata": {},
   "outputs": [],
   "source": [
    "from autoviz.AutoViz_Class import AutoViz_Class\n",
    "AV = AutoViz_Class()\n",
    "df = AV.AutoViz('market-share-data-cleaned.csv')"
   ]
  },
  {
   "cell_type": "code",
   "execution_count": null,
   "id": "4992cc77",
   "metadata": {},
   "outputs": [],
   "source": [
    "# Dataprep"
   ]
  },
  {
   "cell_type": "code",
   "execution_count": null,
   "id": "23b3ea5e",
   "metadata": {},
   "outputs": [],
   "source": [
    "from dataprep.eda import create_report\n",
    "create_report(df).show_browser()"
   ]
  },
  {
   "cell_type": "code",
   "execution_count": null,
   "id": "0fcb7852",
   "metadata": {},
   "outputs": [],
   "source": [
    "pip install dataprep"
   ]
  },
  {
   "cell_type": "code",
   "execution_count": null,
   "id": "23df8a5c",
   "metadata": {},
   "outputs": [],
   "source": []
  }
 ],
 "metadata": {
  "kernelspec": {
   "display_name": "Python 3",
   "language": "python",
   "name": "python3"
  },
  "language_info": {
   "codemirror_mode": {
    "name": "ipython",
    "version": 3
   },
   "file_extension": ".py",
   "mimetype": "text/x-python",
   "name": "python",
   "nbconvert_exporter": "python",
   "pygments_lexer": "ipython3",
   "version": "3.8.8"
  }
 },
 "nbformat": 4,
 "nbformat_minor": 5
}
